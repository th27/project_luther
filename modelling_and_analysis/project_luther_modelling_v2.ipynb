{
 "cells": [
  {
   "cell_type": "code",
   "execution_count": 603,
   "metadata": {
    "collapsed": false
   },
   "outputs": [],
   "source": [
    "import pandas as pd\n",
    "import numpy as np\n",
    "import math\n",
    "import matplotlib.pyplot as plt\n",
    "%matplotlib inline\n",
    "\n",
    "import pickle\n",
    "\n",
    "import statsmodels.api as sm\n",
    "from sklearn import cross_validation, feature_selection, grid_search, linear_model            "
   ]
  },
  {
   "cell_type": "code",
   "execution_count": 604,
   "metadata": {
    "collapsed": false
   },
   "outputs": [
    {
     "data": {
      "text/plain": [
       "Index(['movie_title', 'gtr_domestic', 'gtr_foreign', 'gtr_opening',\n",
       "       'open_ranking', 'widest_release', 'prod_budget', 'big_budget',\n",
       "       'days_in_release', 'year_of_release', 'year_week_index',\n",
       "       'total_world_sales', 'week_movies_out', 'week_overall_gross',\n",
       "       'three_week_total', 'new_releases_in_same_week', 'three_week_opening',\n",
       "       'three_week_opening_gtr', 'target'],\n",
       "      dtype='object')"
      ]
     },
     "execution_count": 604,
     "metadata": {},
     "output_type": "execute_result"
    }
   ],
   "source": [
    "with open(\"consolDF.pkl\", 'rb') as picklefile: \n",
    "    df = pickle.load(picklefile)\n",
    "\n",
    "df.columns"
   ]
  },
  {
   "cell_type": "code",
   "execution_count": 605,
   "metadata": {
    "collapsed": false
   },
   "outputs": [],
   "source": [
    "df['sales_cost_ratio'] = df['total_world_sales'] / df['prod_budget']\n",
    "df['sales_cost_log'] = np.log(df['sales_cost_ratio'])\n",
    "# # df['gross_margin_reverse_log'] = np.exp(df['gross_margin_log'])"
   ]
  },
  {
   "cell_type": "code",
   "execution_count": 606,
   "metadata": {
    "collapsed": false
   },
   "outputs": [
    {
     "data": {
      "image/png": "[encoded data removed]",
      "text/plain": [
       "<matplotlib.figure.Figure at 0x119f11e80>"
      ]
     },
     "metadata": {},
     "output_type": "display_data"
    }
   ],
   "source": [
    "x = df['sales_cost_log']\n",
    "y = df['prod_budget']\n",
    "\n",
    "plt.scatter(x,y)\n",
    "plt.show()"
   ]
  },
  {
   "cell_type": "code",
   "execution_count": 607,
   "metadata": {
    "collapsed": true
   },
   "outputs": [],
   "source": [
    "df.replace([np.inf, -np.inf], np.nan, inplace=True)"
   ]
  },
  {
   "cell_type": "code",
   "execution_count": 608,
   "metadata": {
    "collapsed": false
   },
   "outputs": [
    {
     "data": {
      "text/plain": [
       "[('movie_title', 0),\n",
       " ('gtr_domestic', 0),\n",
       " ('gtr_foreign', 0),\n",
       " ('gtr_opening', 0),\n",
       " ('open_ranking', 0),\n",
       " ('widest_release', 0),\n",
       " ('prod_budget', 0),\n",
       " ('big_budget', 0),\n",
       " ('days_in_release', 0),\n",
       " ('year_of_release', 0),\n",
       " ('year_week_index', 0),\n",
       " ('total_world_sales', 0),\n",
       " ('week_movies_out', 0),\n",
       " ('week_overall_gross', 0),\n",
       " ('three_week_total', 0),\n",
       " ('new_releases_in_same_week', 0),\n",
       " ('three_week_opening', 0),\n",
       " ('three_week_opening_gtr', 0),\n",
       " ('target', 0),\n",
       " ('sales_cost_ratio', 0),\n",
       " ('sales_cost_log', 0)]"
      ]
     },
     "execution_count": 608,
     "metadata": {},
     "output_type": "execute_result"
    }
   ],
   "source": [
    "df = df.dropna()\n",
    "a = list(df.columns)\n",
    "b = list(df.isnull().sum(axis=0).tolist())\n",
    "list(zip(a,b))"
   ]
  },
  {
   "cell_type": "code",
   "execution_count": 609,
   "metadata": {
    "collapsed": false,
    "scrolled": true
   },
   "outputs": [
    {
     "data": {
      "text/plain": [
       "3       -1.065297\n",
       "6       -4.260985\n",
       "9       -1.578673\n",
       "12       0.775319\n",
       "14       1.772684\n",
       "15       0.691240\n",
       "34      -0.506693\n",
       "37       1.360811\n",
       "42       0.476535\n",
       "46      -1.757113\n",
       "48       0.868992\n",
       "51       0.797759\n",
       "52       1.987482\n",
       "61      -0.538812\n",
       "69       1.924729\n",
       "73      -0.251987\n",
       "76       0.824301\n",
       "77       0.869089\n",
       "80       0.868857\n",
       "81      -1.185537\n",
       "92       1.883195\n",
       "97       0.736767\n",
       "100     -6.711108\n",
       "104      0.388539\n",
       "120      0.613877\n",
       "121      3.914991\n",
       "123     -5.639682\n",
       "125      0.314162\n",
       "134      1.676578\n",
       "135     -6.435173\n",
       "           ...   \n",
       "10142    0.236081\n",
       "10145   -1.462298\n",
       "10154   -2.687858\n",
       "10155    0.180013\n",
       "10157    1.392075\n",
       "10161    0.973399\n",
       "10166    1.452231\n",
       "10167    2.317859\n",
       "10170    1.490192\n",
       "10172    0.439237\n",
       "10174    1.992597\n",
       "10176    0.460858\n",
       "10178    0.895925\n",
       "10180    1.790830\n",
       "10182    0.628731\n",
       "10190   -2.312472\n",
       "10191    0.752787\n",
       "10192   -1.347259\n",
       "10193    1.107239\n",
       "10198   -1.940886\n",
       "10203   -2.905771\n",
       "10206   -0.611883\n",
       "10212    0.266320\n",
       "10214    2.183051\n",
       "10216    2.159357\n",
       "10217    0.370268\n",
       "10219    1.373004\n",
       "10226    0.201268\n",
       "10227   -0.547095\n",
       "10230    2.497632\n",
       "Name: sales_cost_log, dtype: float64"
      ]
     },
     "execution_count": 609,
     "metadata": {},
     "output_type": "execute_result"
    }
   ],
   "source": [
    "target = df['sales_cost_log']\n",
    "target"
   ]
  },
  {
   "cell_type": "code",
   "execution_count": 610,
   "metadata": {
    "collapsed": false
   },
   "outputs": [
    {
     "data": {
      "text/plain": [
       "movie_title                   object\n",
       "gtr_domestic                   int64\n",
       "gtr_foreign                    int64\n",
       "gtr_opening                    int64\n",
       "open_ranking                   int64\n",
       "widest_release                 int64\n",
       "prod_budget                  float64\n",
       "big_budget                   float64\n",
       "days_in_release              float64\n",
       "year_of_release                int64\n",
       "year_week_index               object\n",
       "total_world_sales              int64\n",
       "week_movies_out                int64\n",
       "week_overall_gross             int64\n",
       "three_week_total               int64\n",
       "new_releases_in_same_week      int64\n",
       "three_week_opening             int64\n",
       "three_week_opening_gtr         int64\n",
       "target                       float64\n",
       "sales_cost_ratio             float64\n",
       "sales_cost_log               float64\n",
       "dtype: object"
      ]
     },
     "execution_count": 610,
     "metadata": {},
     "output_type": "execute_result"
    }
   ],
   "source": [
    "df.dtypes"
   ]
  },
  {
   "cell_type": "code",
   "execution_count": 611,
   "metadata": {
    "collapsed": false
   },
   "outputs": [
    {
     "data": {
      "text/plain": [
       "Index(['movie_title', 'gtr_domestic', 'gtr_foreign', 'gtr_opening',\n",
       "       'open_ranking', 'widest_release', 'prod_budget', 'big_budget',\n",
       "       'days_in_release', 'year_of_release', 'year_week_index',\n",
       "       'total_world_sales', 'week_movies_out', 'week_overall_gross',\n",
       "       'three_week_total', 'new_releases_in_same_week', 'three_week_opening',\n",
       "       'three_week_opening_gtr', 'target', 'sales_cost_ratio',\n",
       "       'sales_cost_log'],\n",
       "      dtype='object')"
      ]
     },
     "execution_count": 611,
     "metadata": {},
     "output_type": "execute_result"
    }
   ],
   "source": [
    "df.columns"
   ]
  },
  {
   "cell_type": "code",
   "execution_count": 612,
   "metadata": {
    "collapsed": false
   },
   "outputs": [
    {
     "data": {
      "text/plain": [
       "Index(['gtr_domestic', 'gtr_foreign', 'gtr_opening', 'open_ranking',\n",
       "       'widest_release', 'prod_budget', 'big_budget', 'days_in_release',\n",
       "       'year_of_release', 'total_world_sales', 'week_movies_out',\n",
       "       'week_overall_gross', 'three_week_total', 'new_releases_in_same_week',\n",
       "       'three_week_opening', 'three_week_opening_gtr', 'target',\n",
       "       'sales_cost_ratio', 'sales_cost_log'],\n",
       "      dtype='object')"
      ]
     },
     "execution_count": 612,
     "metadata": {},
     "output_type": "execute_result"
    }
   ],
   "source": [
    "df.drop(['movie_title','year_week_index'],axis=1,inplace=True)\n",
    "df.columns"
   ]
  },
  {
   "cell_type": "code",
   "execution_count": 613,
   "metadata": {
    "collapsed": false
   },
   "outputs": [
    {
     "data": {
      "text/plain": [
       "(3251, 19)"
      ]
     },
     "execution_count": 613,
     "metadata": {},
     "output_type": "execute_result"
    }
   ],
   "source": [
    "df.shape"
   ]
  },
  {
   "cell_type": "code",
   "execution_count": 614,
   "metadata": {
    "collapsed": false
   },
   "outputs": [
    {
     "data": {
      "text/plain": [
       "Index(['gtr_domestic', 'gtr_foreign', 'gtr_opening', 'open_ranking',\n",
       "       'widest_release', 'prod_budget', 'big_budget', 'days_in_release',\n",
       "       'year_of_release', 'total_world_sales', 'week_movies_out',\n",
       "       'week_overall_gross', 'three_week_total', 'new_releases_in_same_week',\n",
       "       'three_week_opening', 'three_week_opening_gtr', 'target',\n",
       "       'sales_cost_ratio', 'sales_cost_log', 'big_budget_same_week_release'],\n",
       "      dtype='object')"
      ]
     },
     "execution_count": 614,
     "metadata": {},
     "output_type": "execute_result"
    }
   ],
   "source": [
    "# add column\n",
    "df['big_budget_same_week_release'] = df['big_budget'] * df['new_releases_in_same_week']\n",
    "df.columns"
   ]
  },
  {
   "cell_type": "code",
   "execution_count": 615,
   "metadata": {
    "collapsed": false,
    "scrolled": true
   },
   "outputs": [],
   "source": [
    "def scatter_matrix(X):\n",
    "    feature_count = len(X.columns)\n",
    "    fig,ax = plt.subplots(ncols=feature_count,nrows=feature_count,figsize=(10*feature_count, 10*feature_count))\n",
    "\n",
    "    for i,feature_i in enumerate(X):\n",
    "        for j,feature_j in enumerate(X):\n",
    "            ax[i][j].scatter(X[feature_i],X[feature_j])\n",
    "            ax[i][j].set_xlabel('Feature ' + str(feature_j))\n",
    "            ax[i][j].set_ylabel('Feature ' + str(feature_i))"
   ]
  },
  {
   "cell_type": "code",
   "execution_count": 616,
   "metadata": {
    "collapsed": true
   },
   "outputs": [],
   "source": [
    "# pd.scatter_matrix(df[['A_gtr_domestic','G_open_rankings_squared',\n",
    "#                       'A_widest_release','B_days_in_release','G_domestic_%_total',\n",
    "#                       'D_three_week_opening_releases','C_three_week_total','G_market_share_opening_gtr',\n",
    "#                      ]].dropna(), alpha=0.2, figsize=(18, 18), diagonal='kde')"
   ]
  },
  {
   "cell_type": "code",
   "execution_count": 617,
   "metadata": {
    "collapsed": false,
    "scrolled": true
   },
   "outputs": [],
   "source": [
    "# scatter_matrix(df)"
   ]
  },
  {
   "cell_type": "code",
   "execution_count": 618,
   "metadata": {
    "collapsed": false
   },
   "outputs": [
    {
     "data": {
      "text/plain": [
       "Index(['widest_release', 'days_in_release', 'new_releases_in_same_week',\n",
       "       'big_budget_same_week_release'],\n",
       "      dtype='object')"
      ]
     },
     "execution_count": 618,
     "metadata": {},
     "output_type": "execute_result"
    }
   ],
   "source": [
    "df.drop(['gtr_domestic', 'gtr_foreign', 'gtr_opening', 'open_ranking',\n",
    "         'week_movies_out', 'year_of_release', 'total_world_sales',\n",
    "         'week_overall_gross', 'three_week_total', 'three_week_opening_gtr',\n",
    "         'three_week_opening', 'target', 'prod_budget', 'big_budget','target',\n",
    "         'sales_cost_ratio','sales_cost_log'],axis=1,inplace=True)\n",
    "df.columns"
   ]
  },
  {
   "cell_type": "code",
   "execution_count": 619,
   "metadata": {
    "collapsed": false,
    "scrolled": true
   },
   "outputs": [
    {
     "data": {
      "text/html": [
       "<div>\n",
       "<table border=\"1\" class=\"dataframe\">\n",
       "  <thead>\n",
       "    <tr style=\"text-align: right;\">\n",
       "      <th></th>\n",
       "      <th>widest_release</th>\n",
       "      <th>days_in_release</th>\n",
       "      <th>new_releases_in_same_week</th>\n",
       "      <th>big_budget_same_week_release</th>\n",
       "    </tr>\n",
       "  </thead>\n",
       "  <tbody>\n",
       "    <tr>\n",
       "      <th>3</th>\n",
       "      <td>2459</td>\n",
       "      <td>48.0</td>\n",
       "      <td>20</td>\n",
       "      <td>0.0</td>\n",
       "    </tr>\n",
       "    <tr>\n",
       "      <th>6</th>\n",
       "      <td>4</td>\n",
       "      <td>34.0</td>\n",
       "      <td>20</td>\n",
       "      <td>0.0</td>\n",
       "    </tr>\n",
       "    <tr>\n",
       "      <th>9</th>\n",
       "      <td>44</td>\n",
       "      <td>48.0</td>\n",
       "      <td>20</td>\n",
       "      <td>0.0</td>\n",
       "    </tr>\n",
       "    <tr>\n",
       "      <th>12</th>\n",
       "      <td>2945</td>\n",
       "      <td>41.0</td>\n",
       "      <td>20</td>\n",
       "      <td>0.0</td>\n",
       "    </tr>\n",
       "    <tr>\n",
       "      <th>14</th>\n",
       "      <td>3330</td>\n",
       "      <td>181.0</td>\n",
       "      <td>20</td>\n",
       "      <td>0.0</td>\n",
       "    </tr>\n",
       "    <tr>\n",
       "      <th>15</th>\n",
       "      <td>2381</td>\n",
       "      <td>48.0</td>\n",
       "      <td>20</td>\n",
       "      <td>0.0</td>\n",
       "    </tr>\n",
       "    <tr>\n",
       "      <th>34</th>\n",
       "      <td>2188</td>\n",
       "      <td>41.0</td>\n",
       "      <td>16</td>\n",
       "      <td>0.0</td>\n",
       "    </tr>\n",
       "    <tr>\n",
       "      <th>37</th>\n",
       "      <td>3009</td>\n",
       "      <td>97.0</td>\n",
       "      <td>12</td>\n",
       "      <td>0.0</td>\n",
       "    </tr>\n",
       "    <tr>\n",
       "      <th>42</th>\n",
       "      <td>131</td>\n",
       "      <td>139.0</td>\n",
       "      <td>12</td>\n",
       "      <td>0.0</td>\n",
       "    </tr>\n",
       "    <tr>\n",
       "      <th>46</th>\n",
       "      <td>2404</td>\n",
       "      <td>41.0</td>\n",
       "      <td>12</td>\n",
       "      <td>12.0</td>\n",
       "    </tr>\n",
       "    <tr>\n",
       "      <th>48</th>\n",
       "      <td>3284</td>\n",
       "      <td>107.0</td>\n",
       "      <td>11</td>\n",
       "      <td>11.0</td>\n",
       "    </tr>\n",
       "    <tr>\n",
       "      <th>51</th>\n",
       "      <td>3080</td>\n",
       "      <td>176.0</td>\n",
       "      <td>11</td>\n",
       "      <td>11.0</td>\n",
       "    </tr>\n",
       "    <tr>\n",
       "      <th>52</th>\n",
       "      <td>3445</td>\n",
       "      <td>120.0</td>\n",
       "      <td>11</td>\n",
       "      <td>0.0</td>\n",
       "    </tr>\n",
       "    <tr>\n",
       "      <th>61</th>\n",
       "      <td>2135</td>\n",
       "      <td>34.0</td>\n",
       "      <td>13</td>\n",
       "      <td>0.0</td>\n",
       "    </tr>\n",
       "    <tr>\n",
       "      <th>69</th>\n",
       "      <td>2735</td>\n",
       "      <td>37.0</td>\n",
       "      <td>13</td>\n",
       "      <td>0.0</td>\n",
       "    </tr>\n",
       "    <tr>\n",
       "      <th>73</th>\n",
       "      <td>354</td>\n",
       "      <td>37.0</td>\n",
       "      <td>12</td>\n",
       "      <td>0.0</td>\n",
       "    </tr>\n",
       "    <tr>\n",
       "      <th>76</th>\n",
       "      <td>259</td>\n",
       "      <td>41.0</td>\n",
       "      <td>12</td>\n",
       "      <td>0.0</td>\n",
       "    </tr>\n",
       "    <tr>\n",
       "      <th>77</th>\n",
       "      <td>3792</td>\n",
       "      <td>69.0</td>\n",
       "      <td>12</td>\n",
       "      <td>12.0</td>\n",
       "    </tr>\n",
       "    <tr>\n",
       "      <th>80</th>\n",
       "      <td>381</td>\n",
       "      <td>55.0</td>\n",
       "      <td>12</td>\n",
       "      <td>0.0</td>\n",
       "    </tr>\n",
       "    <tr>\n",
       "      <th>81</th>\n",
       "      <td>7</td>\n",
       "      <td>197.0</td>\n",
       "      <td>12</td>\n",
       "      <td>0.0</td>\n",
       "    </tr>\n",
       "    <tr>\n",
       "      <th>92</th>\n",
       "      <td>3820</td>\n",
       "      <td>216.0</td>\n",
       "      <td>25</td>\n",
       "      <td>25.0</td>\n",
       "    </tr>\n",
       "    <tr>\n",
       "      <th>97</th>\n",
       "      <td>3026</td>\n",
       "      <td>65.0</td>\n",
       "      <td>25</td>\n",
       "      <td>0.0</td>\n",
       "    </tr>\n",
       "    <tr>\n",
       "      <th>100</th>\n",
       "      <td>25</td>\n",
       "      <td>20.0</td>\n",
       "      <td>25</td>\n",
       "      <td>0.0</td>\n",
       "    </tr>\n",
       "    <tr>\n",
       "      <th>104</th>\n",
       "      <td>511</td>\n",
       "      <td>62.0</td>\n",
       "      <td>25</td>\n",
       "      <td>0.0</td>\n",
       "    </tr>\n",
       "    <tr>\n",
       "      <th>120</th>\n",
       "      <td>3550</td>\n",
       "      <td>104.0</td>\n",
       "      <td>14</td>\n",
       "      <td>14.0</td>\n",
       "    </tr>\n",
       "    <tr>\n",
       "      <th>121</th>\n",
       "      <td>3550</td>\n",
       "      <td>104.0</td>\n",
       "      <td>14</td>\n",
       "      <td>0.0</td>\n",
       "    </tr>\n",
       "    <tr>\n",
       "      <th>123</th>\n",
       "      <td>2</td>\n",
       "      <td>6.0</td>\n",
       "      <td>15</td>\n",
       "      <td>0.0</td>\n",
       "    </tr>\n",
       "    <tr>\n",
       "      <th>125</th>\n",
       "      <td>3222</td>\n",
       "      <td>79.0</td>\n",
       "      <td>15</td>\n",
       "      <td>15.0</td>\n",
       "    </tr>\n",
       "    <tr>\n",
       "      <th>134</th>\n",
       "      <td>3184</td>\n",
       "      <td>167.0</td>\n",
       "      <td>15</td>\n",
       "      <td>0.0</td>\n",
       "    </tr>\n",
       "    <tr>\n",
       "      <th>135</th>\n",
       "      <td>19</td>\n",
       "      <td>13.0</td>\n",
       "      <td>15</td>\n",
       "      <td>0.0</td>\n",
       "    </tr>\n",
       "    <tr>\n",
       "      <th>...</th>\n",
       "      <td>...</td>\n",
       "      <td>...</td>\n",
       "      <td>...</td>\n",
       "      <td>...</td>\n",
       "    </tr>\n",
       "    <tr>\n",
       "      <th>10142</th>\n",
       "      <td>2730</td>\n",
       "      <td>55.0</td>\n",
       "      <td>11</td>\n",
       "      <td>0.0</td>\n",
       "    </tr>\n",
       "    <tr>\n",
       "      <th>10145</th>\n",
       "      <td>875</td>\n",
       "      <td>20.0</td>\n",
       "      <td>11</td>\n",
       "      <td>0.0</td>\n",
       "    </tr>\n",
       "    <tr>\n",
       "      <th>10154</th>\n",
       "      <td>123</td>\n",
       "      <td>20.0</td>\n",
       "      <td>11</td>\n",
       "      <td>0.0</td>\n",
       "    </tr>\n",
       "    <tr>\n",
       "      <th>10155</th>\n",
       "      <td>3033</td>\n",
       "      <td>62.0</td>\n",
       "      <td>11</td>\n",
       "      <td>11.0</td>\n",
       "    </tr>\n",
       "    <tr>\n",
       "      <th>10157</th>\n",
       "      <td>3169</td>\n",
       "      <td>111.0</td>\n",
       "      <td>11</td>\n",
       "      <td>0.0</td>\n",
       "    </tr>\n",
       "    <tr>\n",
       "      <th>10161</th>\n",
       "      <td>3715</td>\n",
       "      <td>111.0</td>\n",
       "      <td>9</td>\n",
       "      <td>9.0</td>\n",
       "    </tr>\n",
       "    <tr>\n",
       "      <th>10166</th>\n",
       "      <td>2926</td>\n",
       "      <td>62.0</td>\n",
       "      <td>9</td>\n",
       "      <td>0.0</td>\n",
       "    </tr>\n",
       "    <tr>\n",
       "      <th>10167</th>\n",
       "      <td>94</td>\n",
       "      <td>76.0</td>\n",
       "      <td>9</td>\n",
       "      <td>0.0</td>\n",
       "    </tr>\n",
       "    <tr>\n",
       "      <th>10170</th>\n",
       "      <td>3952</td>\n",
       "      <td>126.0</td>\n",
       "      <td>6</td>\n",
       "      <td>6.0</td>\n",
       "    </tr>\n",
       "    <tr>\n",
       "      <th>10172</th>\n",
       "      <td>237</td>\n",
       "      <td>153.0</td>\n",
       "      <td>6</td>\n",
       "      <td>0.0</td>\n",
       "    </tr>\n",
       "    <tr>\n",
       "      <th>10174</th>\n",
       "      <td>3675</td>\n",
       "      <td>112.0</td>\n",
       "      <td>6</td>\n",
       "      <td>6.0</td>\n",
       "    </tr>\n",
       "    <tr>\n",
       "      <th>10176</th>\n",
       "      <td>26</td>\n",
       "      <td>139.0</td>\n",
       "      <td>11</td>\n",
       "      <td>0.0</td>\n",
       "    </tr>\n",
       "    <tr>\n",
       "      <th>10178</th>\n",
       "      <td>2806</td>\n",
       "      <td>62.0</td>\n",
       "      <td>11</td>\n",
       "      <td>0.0</td>\n",
       "    </tr>\n",
       "    <tr>\n",
       "      <th>10180</th>\n",
       "      <td>2838</td>\n",
       "      <td>111.0</td>\n",
       "      <td>11</td>\n",
       "      <td>0.0</td>\n",
       "    </tr>\n",
       "    <tr>\n",
       "      <th>10182</th>\n",
       "      <td>2707</td>\n",
       "      <td>125.0</td>\n",
       "      <td>11</td>\n",
       "      <td>0.0</td>\n",
       "    </tr>\n",
       "    <tr>\n",
       "      <th>10190</th>\n",
       "      <td>56</td>\n",
       "      <td>111.0</td>\n",
       "      <td>14</td>\n",
       "      <td>0.0</td>\n",
       "    </tr>\n",
       "    <tr>\n",
       "      <th>10191</th>\n",
       "      <td>3030</td>\n",
       "      <td>76.0</td>\n",
       "      <td>14</td>\n",
       "      <td>0.0</td>\n",
       "    </tr>\n",
       "    <tr>\n",
       "      <th>10192</th>\n",
       "      <td>3117</td>\n",
       "      <td>104.0</td>\n",
       "      <td>14</td>\n",
       "      <td>14.0</td>\n",
       "    </tr>\n",
       "    <tr>\n",
       "      <th>10193</th>\n",
       "      <td>3417</td>\n",
       "      <td>83.0</td>\n",
       "      <td>14</td>\n",
       "      <td>14.0</td>\n",
       "    </tr>\n",
       "    <tr>\n",
       "      <th>10198</th>\n",
       "      <td>3</td>\n",
       "      <td>34.0</td>\n",
       "      <td>14</td>\n",
       "      <td>0.0</td>\n",
       "    </tr>\n",
       "    <tr>\n",
       "      <th>10203</th>\n",
       "      <td>42</td>\n",
       "      <td>83.0</td>\n",
       "      <td>15</td>\n",
       "      <td>0.0</td>\n",
       "    </tr>\n",
       "    <tr>\n",
       "      <th>10206</th>\n",
       "      <td>245</td>\n",
       "      <td>125.0</td>\n",
       "      <td>15</td>\n",
       "      <td>0.0</td>\n",
       "    </tr>\n",
       "    <tr>\n",
       "      <th>10212</th>\n",
       "      <td>2864</td>\n",
       "      <td>41.0</td>\n",
       "      <td>15</td>\n",
       "      <td>15.0</td>\n",
       "    </tr>\n",
       "    <tr>\n",
       "      <th>10214</th>\n",
       "      <td>2958</td>\n",
       "      <td>139.0</td>\n",
       "      <td>15</td>\n",
       "      <td>0.0</td>\n",
       "    </tr>\n",
       "    <tr>\n",
       "      <th>10216</th>\n",
       "      <td>3014</td>\n",
       "      <td>211.0</td>\n",
       "      <td>10</td>\n",
       "      <td>0.0</td>\n",
       "    </tr>\n",
       "    <tr>\n",
       "      <th>10217</th>\n",
       "      <td>2888</td>\n",
       "      <td>48.0</td>\n",
       "      <td>10</td>\n",
       "      <td>0.0</td>\n",
       "    </tr>\n",
       "    <tr>\n",
       "      <th>10219</th>\n",
       "      <td>3155</td>\n",
       "      <td>62.0</td>\n",
       "      <td>10</td>\n",
       "      <td>0.0</td>\n",
       "    </tr>\n",
       "    <tr>\n",
       "      <th>10226</th>\n",
       "      <td>2950</td>\n",
       "      <td>76.0</td>\n",
       "      <td>7</td>\n",
       "      <td>7.0</td>\n",
       "    </tr>\n",
       "    <tr>\n",
       "      <th>10227</th>\n",
       "      <td>2290</td>\n",
       "      <td>55.0</td>\n",
       "      <td>7</td>\n",
       "      <td>0.0</td>\n",
       "    </tr>\n",
       "    <tr>\n",
       "      <th>10230</th>\n",
       "      <td>352</td>\n",
       "      <td>55.0</td>\n",
       "      <td>7</td>\n",
       "      <td>0.0</td>\n",
       "    </tr>\n",
       "  </tbody>\n",
       "</table>\n",
       "<p>3251 rows × 4 columns</p>\n",
       "</div>"
      ],
      "text/plain": [
       "       widest_release  days_in_release  new_releases_in_same_week  \\\n",
       "3                2459             48.0                         20   \n",
       "6                   4             34.0                         20   \n",
       "9                  44             48.0                         20   \n",
       "12               2945             41.0                         20   \n",
       "14               3330            181.0                         20   \n",
       "15               2381             48.0                         20   \n",
       "34               2188             41.0                         16   \n",
       "37               3009             97.0                         12   \n",
       "42                131            139.0                         12   \n",
       "46               2404             41.0                         12   \n",
       "48               3284            107.0                         11   \n",
       "51               3080            176.0                         11   \n",
       "52               3445            120.0                         11   \n",
       "61               2135             34.0                         13   \n",
       "69               2735             37.0                         13   \n",
       "73                354             37.0                         12   \n",
       "76                259             41.0                         12   \n",
       "77               3792             69.0                         12   \n",
       "80                381             55.0                         12   \n",
       "81                  7            197.0                         12   \n",
       "92               3820            216.0                         25   \n",
       "97               3026             65.0                         25   \n",
       "100                25             20.0                         25   \n",
       "104               511             62.0                         25   \n",
       "120              3550            104.0                         14   \n",
       "121              3550            104.0                         14   \n",
       "123                 2              6.0                         15   \n",
       "125              3222             79.0                         15   \n",
       "134              3184            167.0                         15   \n",
       "135                19             13.0                         15   \n",
       "...               ...              ...                        ...   \n",
       "10142            2730             55.0                         11   \n",
       "10145             875             20.0                         11   \n",
       "10154             123             20.0                         11   \n",
       "10155            3033             62.0                         11   \n",
       "10157            3169            111.0                         11   \n",
       "10161            3715            111.0                          9   \n",
       "10166            2926             62.0                          9   \n",
       "10167              94             76.0                          9   \n",
       "10170            3952            126.0                          6   \n",
       "10172             237            153.0                          6   \n",
       "10174            3675            112.0                          6   \n",
       "10176              26            139.0                         11   \n",
       "10178            2806             62.0                         11   \n",
       "10180            2838            111.0                         11   \n",
       "10182            2707            125.0                         11   \n",
       "10190              56            111.0                         14   \n",
       "10191            3030             76.0                         14   \n",
       "10192            3117            104.0                         14   \n",
       "10193            3417             83.0                         14   \n",
       "10198               3             34.0                         14   \n",
       "10203              42             83.0                         15   \n",
       "10206             245            125.0                         15   \n",
       "10212            2864             41.0                         15   \n",
       "10214            2958            139.0                         15   \n",
       "10216            3014            211.0                         10   \n",
       "10217            2888             48.0                         10   \n",
       "10219            3155             62.0                         10   \n",
       "10226            2950             76.0                          7   \n",
       "10227            2290             55.0                          7   \n",
       "10230             352             55.0                          7   \n",
       "\n",
       "       big_budget_same_week_release  \n",
       "3                               0.0  \n",
       "6                               0.0  \n",
       "9                               0.0  \n",
       "12                              0.0  \n",
       "14                              0.0  \n",
       "15                              0.0  \n",
       "34                              0.0  \n",
       "37                              0.0  \n",
       "42                              0.0  \n",
       "46                             12.0  \n",
       "48                             11.0  \n",
       "51                             11.0  \n",
       "52                              0.0  \n",
       "61                              0.0  \n",
       "69                              0.0  \n",
       "73                              0.0  \n",
       "76                              0.0  \n",
       "77                             12.0  \n",
       "80                              0.0  \n",
       "81                              0.0  \n",
       "92                             25.0  \n",
       "97                              0.0  \n",
       "100                             0.0  \n",
       "104                             0.0  \n",
       "120                            14.0  \n",
       "121                             0.0  \n",
       "123                             0.0  \n",
       "125                            15.0  \n",
       "134                             0.0  \n",
       "135                             0.0  \n",
       "...                             ...  \n",
       "10142                           0.0  \n",
       "10145                           0.0  \n",
       "10154                           0.0  \n",
       "10155                          11.0  \n",
       "10157                           0.0  \n",
       "10161                           9.0  \n",
       "10166                           0.0  \n",
       "10167                           0.0  \n",
       "10170                           6.0  \n",
       "10172                           0.0  \n",
       "10174                           6.0  \n",
       "10176                           0.0  \n",
       "10178                           0.0  \n",
       "10180                           0.0  \n",
       "10182                           0.0  \n",
       "10190                           0.0  \n",
       "10191                           0.0  \n",
       "10192                          14.0  \n",
       "10193                          14.0  \n",
       "10198                           0.0  \n",
       "10203                           0.0  \n",
       "10206                           0.0  \n",
       "10212                          15.0  \n",
       "10214                           0.0  \n",
       "10216                           0.0  \n",
       "10217                           0.0  \n",
       "10219                           0.0  \n",
       "10226                           7.0  \n",
       "10227                           0.0  \n",
       "10230                           0.0  \n",
       "\n",
       "[3251 rows x 4 columns]"
      ]
     },
     "execution_count": 619,
     "metadata": {},
     "output_type": "execute_result"
    }
   ],
   "source": [
    "df"
   ]
  },
  {
   "cell_type": "code",
   "execution_count": 620,
   "metadata": {
    "collapsed": false
   },
   "outputs": [
    {
     "name": "stdout",
     "output_type": "stream",
     "text": [
      "widest_release                  4468.0\n",
      "days_in_release                 1182.0\n",
      "new_releases_in_same_week         28.0\n",
      "big_budget_same_week_release      25.0\n",
      "dtype: float64\n",
      "widest_release                  0.0\n",
      "days_in_release                 2.0\n",
      "new_releases_in_same_week       2.0\n",
      "big_budget_same_week_release    0.0\n",
      "dtype: float64\n"
     ]
    }
   ],
   "source": [
    "print(df.max())\n",
    "print(df.min())"
   ]
  },
  {
   "cell_type": "code",
   "execution_count": 621,
   "metadata": {
    "collapsed": false
   },
   "outputs": [
    {
     "data": {
      "text/plain": [
       "[('widest_release', 0),\n",
       " ('days_in_release', 0),\n",
       " ('new_releases_in_same_week', 0),\n",
       " ('big_budget_same_week_release', 0)]"
      ]
     },
     "execution_count": 621,
     "metadata": {},
     "output_type": "execute_result"
    }
   ],
   "source": [
    "a = list(df.columns)\n",
    "b = list(df.isnull().sum(axis=0).tolist())\n",
    "list(zip(a,b))"
   ]
  },
  {
   "cell_type": "code",
   "execution_count": 622,
   "metadata": {
    "collapsed": false
   },
   "outputs": [
    {
     "data": {
      "text/plain": [
       "(3251, 4)"
      ]
     },
     "execution_count": 622,
     "metadata": {},
     "output_type": "execute_result"
    }
   ],
   "source": [
    "df.shape"
   ]
  },
  {
   "cell_type": "code",
   "execution_count": 623,
   "metadata": {
    "collapsed": true
   },
   "outputs": [],
   "source": [
    "# scatter_matrix(df)"
   ]
  },
  {
   "cell_type": "code",
   "execution_count": 624,
   "metadata": {
    "collapsed": false
   },
   "outputs": [
    {
     "data": {
      "text/html": [
       "<table class=\"simpletable\">\n",
       "<caption>OLS Regression Results</caption>\n",
       "<tr>\n",
       "  <th>Dep. Variable:</th>     <td>sales_cost_log</td>  <th>  R-squared:         </th> <td>   0.280</td> \n",
       "</tr>\n",
       "<tr>\n",
       "  <th>Model:</th>                   <td>OLS</td>       <th>  Adj. R-squared:    </th> <td>   0.279</td> \n",
       "</tr>\n",
       "<tr>\n",
       "  <th>Method:</th>             <td>Least Squares</td>  <th>  F-statistic:       </th> <td>   315.2</td> \n",
       "</tr>\n",
       "<tr>\n",
       "  <th>Date:</th>             <td>Fri, 07 Oct 2016</td> <th>  Prob (F-statistic):</th> <td>2.12e-229</td>\n",
       "</tr>\n",
       "<tr>\n",
       "  <th>Time:</th>                 <td>02:50:20</td>     <th>  Log-Likelihood:    </th> <td> -6373.9</td> \n",
       "</tr>\n",
       "<tr>\n",
       "  <th>No. Observations:</th>      <td>  3251</td>      <th>  AIC:               </th> <td>1.276e+04</td>\n",
       "</tr>\n",
       "<tr>\n",
       "  <th>Df Residuals:</th>          <td>  3246</td>      <th>  BIC:               </th> <td>1.279e+04</td>\n",
       "</tr>\n",
       "<tr>\n",
       "  <th>Df Model:</th>              <td>     4</td>      <th>                     </th>     <td> </td>    \n",
       "</tr>\n",
       "<tr>\n",
       "  <th>Covariance Type:</th>      <td>nonrobust</td>    <th>                     </th>     <td> </td>    \n",
       "</tr>\n",
       "</table>\n",
       "<table class=\"simpletable\">\n",
       "<tr>\n",
       "                <td></td>                  <th>coef</th>     <th>std err</th>      <th>t</th>      <th>P>|t|</th> <th>[95.0% Conf. Int.]</th> \n",
       "</tr>\n",
       "<tr>\n",
       "  <th>const</th>                        <td>   -1.3686</td> <td>    0.118</td> <td>  -11.638</td> <td> 0.000</td> <td>   -1.599    -1.138</td>\n",
       "</tr>\n",
       "<tr>\n",
       "  <th>widest_release</th>               <td>    0.0007</td> <td> 2.46e-05</td> <td>   30.030</td> <td> 0.000</td> <td>    0.001     0.001</td>\n",
       "</tr>\n",
       "<tr>\n",
       "  <th>days_in_release</th>              <td>    0.0072</td> <td>    0.001</td> <td>   12.764</td> <td> 0.000</td> <td>    0.006     0.008</td>\n",
       "</tr>\n",
       "<tr>\n",
       "  <th>new_releases_in_same_week</th>    <td>   -0.0222</td> <td>    0.008</td> <td>   -2.895</td> <td> 0.004</td> <td>   -0.037    -0.007</td>\n",
       "</tr>\n",
       "<tr>\n",
       "  <th>big_budget_same_week_release</th> <td>   -0.0560</td> <td>    0.007</td> <td>   -8.504</td> <td> 0.000</td> <td>   -0.069    -0.043</td>\n",
       "</tr>\n",
       "</table>\n",
       "<table class=\"simpletable\">\n",
       "<tr>\n",
       "  <th>Omnibus:</th>       <td>444.401</td> <th>  Durbin-Watson:     </th> <td>   1.954</td>\n",
       "</tr>\n",
       "<tr>\n",
       "  <th>Prob(Omnibus):</th> <td> 0.000</td>  <th>  Jarque-Bera (JB):  </th> <td>1754.711</td>\n",
       "</tr>\n",
       "<tr>\n",
       "  <th>Skew:</th>          <td>-0.630</td>  <th>  Prob(JB):          </th> <td>    0.00</td>\n",
       "</tr>\n",
       "<tr>\n",
       "  <th>Kurtosis:</th>      <td> 6.371</td>  <th>  Cond. No.          </th> <td>8.73e+03</td>\n",
       "</tr>\n",
       "</table>"
      ],
      "text/plain": [
       "<class 'statsmodels.iolib.summary.Summary'>\n",
       "\"\"\"\n",
       "                            OLS Regression Results                            \n",
       "==============================================================================\n",
       "Dep. Variable:         sales_cost_log   R-squared:                       0.280\n",
       "Model:                            OLS   Adj. R-squared:                  0.279\n",
       "Method:                 Least Squares   F-statistic:                     315.2\n",
       "Date:                Fri, 07 Oct 2016   Prob (F-statistic):          2.12e-229\n",
       "Time:                        02:50:20   Log-Likelihood:                -6373.9\n",
       "No. Observations:                3251   AIC:                         1.276e+04\n",
       "Df Residuals:                    3246   BIC:                         1.279e+04\n",
       "Df Model:                           4                                         \n",
       "Covariance Type:            nonrobust                                         \n",
       "================================================================================================\n",
       "                                   coef    std err          t      P>|t|      [95.0% Conf. Int.]\n",
       "------------------------------------------------------------------------------------------------\n",
       "const                           -1.3686      0.118    -11.638      0.000        -1.599    -1.138\n",
       "widest_release                   0.0007   2.46e-05     30.030      0.000         0.001     0.001\n",
       "days_in_release                  0.0072      0.001     12.764      0.000         0.006     0.008\n",
       "new_releases_in_same_week       -0.0222      0.008     -2.895      0.004        -0.037    -0.007\n",
       "big_budget_same_week_release    -0.0560      0.007     -8.504      0.000        -0.069    -0.043\n",
       "==============================================================================\n",
       "Omnibus:                      444.401   Durbin-Watson:                   1.954\n",
       "Prob(Omnibus):                  0.000   Jarque-Bera (JB):             1754.711\n",
       "Skew:                          -0.630   Prob(JB):                         0.00\n",
       "Kurtosis:                       6.371   Cond. No.                     8.73e+03\n",
       "==============================================================================\n",
       "\n",
       "Warnings:\n",
       "[1] Standard Errors assume that the covariance matrix of the errors is correctly specified.\n",
       "[2] The condition number is large, 8.73e+03. This might indicate that there are\n",
       "strong multicollinearity or other numerical problems.\n",
       "\"\"\""
      ]
     },
     "execution_count": 624,
     "metadata": {},
     "output_type": "execute_result"
    }
   ],
   "source": [
    "X = df.loc[:,['widest_release','days_in_release',\n",
    "              'new_releases_in_same_week',\n",
    "              'big_budget_same_week_release']]\n",
    "y = target\n",
    "X = sm.add_constant(X)\n",
    "X.head()\n",
    "\n",
    "model = sm.OLS(y, X)\n",
    "results = model.fit()\n",
    "\n",
    "results.summary()"
   ]
  },
  {
   "cell_type": "code",
   "execution_count": 625,
   "metadata": {
    "collapsed": true
   },
   "outputs": [],
   "source": [
    "models = {}\n",
    "models['lin_reg'] = linear_model.LinearRegression()\n",
    "models['ridge'] = linear_model.Ridge()\n",
    "models['lasso'] = linear_model.Lasso(alpha=0.17)\n",
    "models['elasticnet'] = linear_model.ElasticNet()"
   ]
  },
  {
   "cell_type": "code",
   "execution_count": 626,
   "metadata": {
    "collapsed": false
   },
   "outputs": [
    {
     "name": "stdout",
     "output_type": "stream",
     "text": [
      "Model: lin_reg\n",
      "Score: 0.265718066513\n",
      "('big_budget_same_week_release', -0.047720544425492575)\n",
      "('new_releases_in_same_week', -0.036953639205633361)\n",
      "('days_in_release', 0.0064029213712558496)\n",
      "('widest_release', 0.00073896835647131406)\n",
      "\n",
      "Model: elasticnet\n",
      "Score: 0.264989361207\n",
      "('big_budget_same_week_release', -0.027863359155083128)\n",
      "('new_releases_in_same_week', -0.0084659517535117818)\n",
      "('days_in_release', 0.0062573300071467148)\n",
      "('widest_release', 0.00070566646320888518)\n",
      "\n",
      "Model: lasso\n",
      "Score: 0.266816325777\n",
      "('big_budget_same_week_release', -0.04117798547134701)\n",
      "('new_releases_in_same_week', -0.027321238821875208)\n",
      "('days_in_release', 0.0063548868896711958)\n",
      "('widest_release', 0.00072801879286079295)\n",
      "\n",
      "Model: ridge\n",
      "Score: 0.265718184461\n",
      "('big_budget_same_week_release', -0.047719704744059586)\n",
      "('new_releases_in_same_week', -0.036952754048028211)\n",
      "('days_in_release', 0.0064029192422183304)\n",
      "('widest_release', 0.00073896690462850793)\n",
      "\n"
     ]
    }
   ],
   "source": [
    "X_train, X_test, y_train, y_test = cross_validation.train_test_split(df, target, test_size=0.3)\n",
    "\n",
    "for name,model in models.items():\n",
    "    model.fit(X_train,y_train)\n",
    "    print('Model: '+ name)\n",
    "    print(\"Score: \" + str(model.score(X_test,y_test)))\n",
    "    sorted_features = sorted(zip(df.columns, model.coef_), key=lambda tup: abs(tup[1]), reverse=True)\n",
    "    for feature in sorted_features:\n",
    "        print(feature)\n",
    "        \n",
    "    print(\"\")"
   ]
  },
  {
   "cell_type": "code",
   "execution_count": 627,
   "metadata": {
    "collapsed": false
   },
   "outputs": [
    {
     "name": "stdout",
     "output_type": "stream",
     "text": [
      "Model: lin_reg\n",
      "[ 0.15164061 -1.82576047 -1.83999394  0.13343615 -1.30470111  0.12207444\n",
      " -0.15771338 -4.16788945  0.22587529  0.15292198]\n",
      "Score: -0.851010988928 with STD: 1.36767357105\n",
      "('big_budget_same_week_release', -0.047720544425492575)\n",
      "('new_releases_in_same_week', -0.036953639205633361)\n",
      "('days_in_release', 0.0064029213712558496)\n",
      "('widest_release', 0.00073896835647131406)\n",
      "\n",
      "Model: elasticnet\n",
      "[ 0.08836912  0.28085352  0.32320964  0.42230701  0.32813455  0.25315073\n",
      "  0.16085959 -0.14299477 -2.5267109  -0.30544332]\n",
      "Score: -0.111826483846 with STD: 0.833071927395\n",
      "('big_budget_same_week_release', -0.027863359155083128)\n",
      "('new_releases_in_same_week', -0.0084659517535117818)\n",
      "('days_in_release', 0.0062573300071467148)\n",
      "('widest_release', 0.00070566646320888518)\n",
      "\n",
      "Model: lasso\n",
      "[ 0.30712287  0.40911746 -2.86106221 -0.0396562  -2.46154457 -1.10341382\n",
      "  0.28527378  0.08166705  0.13878288  0.31257281]\n",
      "Score: -0.493113994516 with STD: 1.16185514678\n",
      "('big_budget_same_week_release', -0.04117798547134701)\n",
      "('new_releases_in_same_week', -0.027321238821875208)\n",
      "('days_in_release', 0.0063548868896711958)\n",
      "('widest_release', 0.00072801879286079295)\n",
      "\n",
      "Model: ridge\n",
      "[-0.14173913  0.38641509 -0.13357725 -0.91789693  0.15570681  0.03899192\n",
      "  0.20892068  0.34317438  0.22948501 -1.25460713]\n",
      "Score: -0.108512655375 with STD: 0.522103266192\n",
      "('big_budget_same_week_release', -0.047719704744059586)\n",
      "('new_releases_in_same_week', -0.036952754048028211)\n",
      "('days_in_release', 0.0064029192422183304)\n",
      "('widest_release', 0.00073896690462850793)\n",
      "\n"
     ]
    }
   ],
   "source": [
    "shuffler = cross_validation.ShuffleSplit(100)\n",
    "\n",
    "for name,model in models.items():\n",
    "    score = cross_validation.cross_val_score(model, df, target, n_jobs=1, cv=shuffler)\n",
    "    print('Model: ' + name)\n",
    "    print(score)\n",
    "    print(\"Score: \" + str(np.mean(score)) + \" with STD: \" + str(np.std(score)))\n",
    "    sorted_features = sorted(zip(df.columns,model.coef_), key=lambda tup: abs(tup[1]), reverse=True)\n",
    "    for feature in sorted_features:\n",
    "        print(feature)\n",
    "        \n",
    "    print(\"\")"
   ]
  },
  {
   "cell_type": "code",
   "execution_count": 628,
   "metadata": {
    "collapsed": true
   },
   "outputs": [],
   "source": [
    "from sklearn import cross_validation\n",
    "\n",
    "import matplotlib.pyplot as plt\n",
    "%matplotlib inline\n",
    "\n",
    "def plot_overfit(X,y,model_obj,param_ranges,param_static=None): \n",
    "    for parameter,parameter_range in param_ranges.items():\n",
    "        avg_train_score, avg_test_score = [],[]\n",
    "        std_train_score, std_test_score = [],[]\n",
    "        \n",
    "        for param_val in parameter_range:\n",
    "            param = {parameter:param_val}\n",
    "            if param_static:\n",
    "                param.update(param_static)\n",
    "                \n",
    "            model = model_obj(**param)\n",
    "            \n",
    "            train_scores,test_scores = [],[]\n",
    "            for i in range(5):\n",
    "                X_train,X_test,y_train,y_test = cross_validation.train_test_split(X,y,test_size = .5)\n",
    "                model.fit(X_train,y_train)\n",
    "                \n",
    "                train_scores.append(model.score(X_train,y_train))\n",
    "                test_scores.append(model.score(X_test,y_test))\n",
    "            \n",
    "            avg_train_score.append(np.mean(train_scores))\n",
    "            avg_test_score.append(np.mean(test_scores))\n",
    "            \n",
    "            std_train_score.append(np.std(train_scores))\n",
    "            std_test_score.append(np.std(test_scores))\n",
    "            \n",
    "        fig,ax = plt.subplots()\n",
    "        ax.errorbar(parameter_range,avg_train_score,yerr=std_train_score,label='training score')\n",
    "        ax.errorbar(parameter_range,avg_test_score,yerr=std_test_score,label='testing score')\n",
    "        \n",
    "        ax.set_xlabel(parameter)\n",
    "        ax.set_ylabel('score')\n",
    "        ax.legend(loc=0)"
   ]
  },
  {
   "cell_type": "code",
   "execution_count": 629,
   "metadata": {
    "collapsed": false
   },
   "outputs": [
    {
     "data": {
      "image/png": "[encoded data removed]",
      "text/plain": [
       "<matplotlib.figure.Figure at 0x1193372b0>"
      ]
     },
     "metadata": {},
     "output_type": "display_data"
    }
   ],
   "source": [
    "lasso = linear_model.Lasso\n",
    "plot_overfit(df, target,lasso,{'alpha':np.logspace(-4,-1,50)})"
   ]
  },
  {
   "cell_type": "code",
   "execution_count": 630,
   "metadata": {
    "collapsed": false
   },
   "outputs": [
    {
     "data": {
      "image/png": "[encoded data removed]",
      "text/plain": [
       "<matplotlib.figure.Figure at 0x11931f1d0>"
      ]
     },
     "metadata": {},
     "output_type": "display_data"
    }
   ],
   "source": [
    "ridge = linear_model.Ridge\n",
    "plot_overfit(df, target,ridge,{'alpha':np.logspace(-4,-1,50)})"
   ]
  },
  {
   "cell_type": "code",
   "execution_count": 631,
   "metadata": {
    "collapsed": false
   },
   "outputs": [
    {
     "data": {
      "image/png": "[encoded data removed]",
      "text/plain": [
       "<matplotlib.figure.Figure at 0x118c2ac50>"
      ]
     },
     "metadata": {},
     "output_type": "display_data"
    }
   ],
   "source": [
    "elastic = linear_model.ElasticNet\n",
    "plot_overfit(df, target,elastic,{'alpha':np.logspace(-4,0,50)})"
   ]
  },
  {
   "cell_type": "code",
   "execution_count": 632,
   "metadata": {
    "collapsed": false
   },
   "outputs": [
    {
     "data": {
      "text/plain": [
       "GridSearchCV(cv=None, error_score='raise',\n",
       "       estimator=Lasso(alpha=1.0, copy_X=True, fit_intercept=True, max_iter=1000,\n",
       "   normalize=False, positive=False, precompute=False, random_state=None,\n",
       "   selection='cyclic', tol=0.0001, warm_start=False),\n",
       "       fit_params={}, iid=True, n_jobs=1,\n",
       "       param_grid={'normalize': (True, False), 'alpha': array([  1.00000e-04,   1.36296e-04,   1.85766e-04,   2.53191e-04,\n",
       "         3.45089e-04,   4.70342e-04,   6.41057e-04,   8.73734e-04,\n",
       "         1.19086e-03,   1.62310e-03,   2.21222e-03,   3.01516e-03,\n",
       "         4.10954e-03,   5.60113e-03,   7.63411e-03...    1.68883e-01,   2.30181e-01,   3.13727e-01,   4.27597e-01,\n",
       "         5.82797e-01,   7.94328e-01])},\n",
       "       pre_dispatch='2*n_jobs', refit=True, scoring=None, verbose=0)"
      ]
     },
     "execution_count": 632,
     "metadata": {},
     "output_type": "execute_result"
    }
   ],
   "source": [
    "lasso = linear_model.Lasso()\n",
    "\n",
    "parameters = {'normalize':(True,False),\n",
    "              'alpha':np.logspace(-4,-.1,30)}\n",
    "grid_searcher = grid_search.GridSearchCV(lasso, parameters)\n",
    "grid_searcher.fit(df, target)"
   ]
  },
  {
   "cell_type": "code",
   "execution_count": 633,
   "metadata": {
    "collapsed": false
   },
   "outputs": [
    {
     "data": {
      "text/plain": [
       "{'alpha': 0.090911890647288357, 'normalize': False}"
      ]
     },
     "execution_count": 633,
     "metadata": {},
     "output_type": "execute_result"
    }
   ],
   "source": [
    "grid_searcher.best_params_"
   ]
  },
  {
   "cell_type": "code",
   "execution_count": 637,
   "metadata": {
    "collapsed": false
   },
   "outputs": [],
   "source": [
    "best_model = grid_searcher.best_estimator_\n",
    "x = best_model.coef_"
   ]
  },
  {
   "cell_type": "code",
   "execution_count": 638,
   "metadata": {
    "collapsed": false
   },
   "outputs": [
    {
     "data": {
      "text/plain": [
       "array([ 0.000734  ,  0.00711742, -0.01710677, -0.05233047])"
      ]
     },
     "execution_count": 638,
     "metadata": {},
     "output_type": "execute_result"
    }
   ],
   "source": [
    "x"
   ]
  },
  {
   "cell_type": "code",
   "execution_count": 635,
   "metadata": {
    "collapsed": false
   },
   "outputs": [
    {
     "data": {
      "text/plain": [
       "[('widest_release', 734.26684315910097),\n",
       " ('days_in_release', 7142.8099584663287),\n",
       " ('new_releases_in_same_week', -16961.280809729011),\n",
       " ('big_budget_same_week_release', -50984.805757445982)]"
      ]
     },
     "execution_count": 635,
     "metadata": {},
     "output_type": "execute_result"
    }
   ],
   "source": [
    "avg_budget = float(1000000)\n",
    "y = (np.exp(x) * avg_budget) - avg_budget\n",
    "col = ('widest_release','days_in_release','new_releases_in_same_week','big_budget_same_week_release')\n",
    "list(zip(col, y))"
   ]
  },
  {
   "cell_type": "code",
   "execution_count": 636,
   "metadata": {
    "collapsed": false
   },
   "outputs": [
    {
     "data": {
      "text/plain": [
       "0.27414251717734367"
      ]
     },
     "execution_count": 636,
     "metadata": {},
     "output_type": "execute_result"
    }
   ],
   "source": [
    "best_model.score(X_test,y_test)"
   ]
  },
  {
   "cell_type": "code",
   "execution_count": null,
   "metadata": {
    "collapsed": true
   },
   "outputs": [],
   "source": []
  }
 ],
 "metadata": {
  "anaconda-cloud": {},
  "kernelspec": {
   "display_name": "Python 3",
   "language": "python",
   "name": "python3"
  },
  "language_info": {
   "codemirror_mode": {
    "name": "ipython",
    "version": 3
   },
   "file_extension": ".py",
   "mimetype": "text/x-python",
   "name": "python",
   "nbconvert_exporter": "python",
   "pygments_lexer": "ipython3",
   "version": "3.5.2"
  }
 },
 "nbformat": 4,
 "nbformat_minor": 1
}
